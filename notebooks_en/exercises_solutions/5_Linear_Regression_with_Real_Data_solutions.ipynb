{
 "cells": [
  {
   "cell_type": "markdown",
   "metadata": {},
   "source": [
    "# Linear Regression with Real Data solutions\n",
    "\n",
    "\n",
    "This notebook contains the solutions to the exercises that are in the lesson [5_Linear_Regression_with_Real_Data](http://nbviewer.jupyter.org/github/engineersCode/EngComp/blob/master/modules/1_offtheground/5_Linear_Regression_with_Real_Data.ipynb)."
   ]
  },
  {
   "cell_type": "markdown",
   "metadata": {},
   "source": [
    "Let's import numpy library and the data we need. "
   ]
  },
  {
   "cell_type": "code",
   "execution_count": 1,
   "metadata": {
    "collapsed": true
   },
   "outputs": [],
   "source": [
    "import numpy"
   ]
  },
  {
   "cell_type": "code",
   "execution_count": 2,
   "metadata": {
    "collapsed": true
   },
   "outputs": [],
   "source": [
    "year, temp_anomaly = numpy.loadtxt(fname='../../../data/land_global_temperature_anomaly-1880-2016.csv', delimiter=',', \n",
    "                              skiprows=5, unpack=True)"
   ]
  },
  {
   "cell_type": "markdown",
   "metadata": {},
   "source": [
    "##### Exercise\n",
    "\n",
    "Inspect the data by printing `year` and `temp_anomaly`"
   ]
  },
  {
   "cell_type": "markdown",
   "metadata": {},
   "source": [
    "#####  <span style=\"color:green\"> Solution </span>"
   ]
  },
  {
   "cell_type": "code",
   "execution_count": 3,
   "metadata": {},
   "outputs": [
    {
     "name": "stdout",
     "output_type": "stream",
     "text": [
      "[ 1880.  1881.  1882.  1883.  1884.  1885.  1886.  1887.  1888.  1889.\n",
      "  1890.  1891.  1892.  1893.  1894.  1895.  1896.  1897.  1898.  1899.\n",
      "  1900.  1901.  1902.  1903.  1904.  1905.  1906.  1907.  1908.  1909.\n",
      "  1910.  1911.  1912.  1913.  1914.  1915.  1916.  1917.  1918.  1919.\n",
      "  1920.  1921.  1922.  1923.  1924.  1925.  1926.  1927.  1928.  1929.\n",
      "  1930.  1931.  1932.  1933.  1934.  1935.  1936.  1937.  1938.  1939.\n",
      "  1940.  1941.  1942.  1943.  1944.  1945.  1946.  1947.  1948.  1949.\n",
      "  1950.  1951.  1952.  1953.  1954.  1955.  1956.  1957.  1958.  1959.\n",
      "  1960.  1961.  1962.  1963.  1964.  1965.  1966.  1967.  1968.  1969.\n",
      "  1970.  1971.  1972.  1973.  1974.  1975.  1976.  1977.  1978.  1979.\n",
      "  1980.  1981.  1982.  1983.  1984.  1985.  1986.  1987.  1988.  1989.\n",
      "  1990.  1991.  1992.  1993.  1994.  1995.  1996.  1997.  1998.  1999.\n",
      "  2000.  2001.  2002.  2003.  2004.  2005.  2006.  2007.  2008.  2009.\n",
      "  2010.  2011.  2012.  2013.  2014.  2015.  2016.]\n"
     ]
    }
   ],
   "source": [
    "print(year)"
   ]
  },
  {
   "cell_type": "code",
   "execution_count": 4,
   "metadata": {},
   "outputs": [
    {
     "name": "stdout",
     "output_type": "stream",
     "text": [
      "[-0.47 -0.45 -0.41 -0.6  -0.6  -0.52 -0.48 -0.47 -0.46 -0.31 -0.49 -0.55\n",
      " -0.52 -0.56 -0.35 -0.4  -0.27 -0.29 -0.37 -0.18 -0.13 -0.09 -0.33 -0.39\n",
      " -0.46 -0.42 -0.2  -0.6  -0.49 -0.39 -0.33 -0.44 -0.51 -0.34 -0.07 -0.07\n",
      " -0.36 -0.51 -0.37 -0.32 -0.28 -0.06 -0.24 -0.21 -0.26 -0.1   0.01 -0.15\n",
      " -0.1  -0.4  -0.08 -0.03 -0.02 -0.34 -0.02 -0.14 -0.12 -0.03  0.17  0.09\n",
      "  0.04  0.11  0.07  0.09  0.21 -0.08 -0.01  0.06  0.06 -0.05 -0.33 -0.07\n",
      " -0.08  0.17 -0.16 -0.13 -0.42 -0.05  0.13  0.05 -0.04  0.1   0.16  0.21\n",
      " -0.24 -0.13 -0.07 -0.   -0.11 -0.1   0.02 -0.04 -0.18  0.29 -0.21  0.12\n",
      " -0.25  0.21  0.08  0.15  0.27  0.49  0.09  0.49  0.05  0.07  0.28  0.41\n",
      "  0.55  0.39  0.59  0.53  0.26  0.35  0.45  0.77  0.35  0.68  0.96  0.8\n",
      "  0.64  0.83  0.94  0.89  0.81  1.05  0.92  1.1   0.87  0.88  1.09  0.91\n",
      "  0.92  1.01  1.02  1.35  1.45]\n"
     ]
    }
   ],
   "source": [
    "print(temp_anomaly)"
   ]
  },
  {
   "cell_type": "markdown",
   "metadata": {},
   "source": [
    "##### Exercise \n",
    "\n",
    "Calculate the mean of the `year` and `temp_anomaly` arrays using `numpy` and compare the results with the ones obtained with our `mean_value` function."
   ]
  },
  {
   "cell_type": "markdown",
   "metadata": {},
   "source": [
    "#####  <span style=\"color:green\"> Solution </span>"
   ]
  },
  {
   "cell_type": "code",
   "execution_count": 5,
   "metadata": {},
   "outputs": [
    {
     "name": "stdout",
     "output_type": "stream",
     "text": [
      "1948.0\n"
     ]
    }
   ],
   "source": [
    "year_mean = numpy.mean(year)\n",
    "print(year_mean)"
   ]
  },
  {
   "cell_type": "code",
   "execution_count": 6,
   "metadata": {},
   "outputs": [
    {
     "name": "stdout",
     "output_type": "stream",
     "text": [
      "0.0526277372263\n"
     ]
    }
   ],
   "source": [
    "temp_anomaly_mean = numpy.mean(temp_anomaly)\n",
    "print(temp_anomaly_mean)"
   ]
  },
  {
   "cell_type": "markdown",
   "metadata": {},
   "source": [
    "**Conclusion:** \n",
    "\n",
    "Yes, they are the same as we expected."
   ]
  },
  {
   "cell_type": "markdown",
   "metadata": {},
   "source": [
    "##### Exercise\n",
    "\n",
    "Write a function that computes the coefficients, call the function to compute them and compare the result with the values we obtained before. As a hint we will write a structure that you should follow:\n",
    "\n",
    "```python\n",
    "def coefficients(x, y, x_mean, y_mean):\n",
    "    \"\"\"\n",
    "    Write docstrings here\n",
    "    \"\"\"\n",
    "\n",
    "    a_1 = \n",
    "    a_0 = \n",
    "    \n",
    "    return a_1, a_0\n",
    "```"
   ]
  },
  {
   "cell_type": "markdown",
   "metadata": {},
   "source": [
    "#####  <span style=\"color:green\"> Solution </span>"
   ]
  },
  {
   "cell_type": "code",
   "execution_count": 7,
   "metadata": {
    "collapsed": true
   },
   "outputs": [],
   "source": [
    "def coefficients(x, y, x_mean, y_mean):\n",
    "    \"\"\"\n",
    "    Computes the coefficients of a linear regression y = a_1x+a_0\n",
    "    \n",
    "    Arguments\n",
    "    ---------\n",
    "    x      : array, independant variable.\n",
    "    y      : array, dependant variable.\n",
    "    x_mean : float, mean value of the independant variable array x.\n",
    "    y_mean : float, mean value of the dependant variable array y.\n",
    "    \n",
    "    Returns\n",
    "    -------\n",
    "    a_1    : float, slope coefficient \n",
    "    a_0    : float, intercept coefficient  \n",
    "    \"\"\"\n",
    "\n",
    "    a_1 = numpy.sum(y*(x - x_mean)) / numpy.sum(x*(x - x_mean))\n",
    "    a_0 = y_mean - a_1*x_mean\n",
    "    \n",
    "    return a_1, a_0"
   ]
  },
  {
   "cell_type": "code",
   "execution_count": 8,
   "metadata": {
    "collapsed": true
   },
   "outputs": [],
   "source": [
    "a_1, a_0 = coefficients(year, temp_anomaly, year_mean, temp_anomaly_mean)"
   ]
  },
  {
   "cell_type": "code",
   "execution_count": 9,
   "metadata": {},
   "outputs": [
    {
     "name": "stdout",
     "output_type": "stream",
     "text": [
      "a_1 =  0.0103702839435\n",
      "a_0 =  -20.1486853847\n"
     ]
    }
   ],
   "source": [
    "print('a_1 = ', a_1)\n",
    "print('a_0 = ', a_0)"
   ]
  },
  {
   "cell_type": "code",
   "execution_count": 10,
   "metadata": {},
   "outputs": [
    {
     "data": {
      "text/html": [
       "<link href=\"https://fonts.googleapis.com/css?family=Merriweather:300,300i,400,400i,700,700i,900,900i\" rel=\"stylesheet\">\n",
       "<link href=\"https://fonts.googleapis.com/css?family=Source+Sans+Pro:300,300i,400,400i,700,700i\" rel=\"stylesheet\">\n",
       "<link href='http://fonts.googleapis.com/css?family=Source+Code+Pro:300,400' rel='stylesheet' type='text/css'>\n",
       "<style>\n",
       "\n",
       "@font-face {\n",
       "    font-family: \"Computer Modern\";\n",
       "    src: url('http://mirrors.ctan.org/fonts/cm-unicode/fonts/otf/cmunss.otf');\n",
       "}\n",
       "\n",
       "\n",
       "#notebook_panel { /* main background */\n",
       "    background: rgb(245,245,245);\n",
       "}\n",
       "\n",
       "div.cell { /* set cell width */\n",
       "    width: 800px;\n",
       "}\n",
       "\n",
       "div #notebook { /* centre the content */\n",
       "    background: #fff; /* white background for content */\n",
       "    width: 1000px;\n",
       "    margin: auto;\n",
       "    padding-left: 0em;\n",
       "}\n",
       "\n",
       "#notebook li { /* More space between bullet points */\n",
       "margin-top:0.8em;\n",
       "}\n",
       "\n",
       "/* draw border around running cells */\n",
       "div.cell.border-box-sizing.code_cell.running { \n",
       "    border: 1px solid #111;\n",
       "}\n",
       "\n",
       "/* Put a solid color box around each cell and its output, visually linking them*/\n",
       "div.cell.code_cell {\n",
       "    background-color: rgb(256,256,256); \n",
       "    border-radius: 0px; \n",
       "    padding: 0.5em;\n",
       "    margin-left:1em;\n",
       "    margin-top: 1em;\n",
       "}\n",
       "\n",
       "\n",
       "div.text_cell_render{\n",
       "    font-family: 'Source Sans Pro', sans-serif;\n",
       "    line-height: 140%;\n",
       "    font-size: 110%;\n",
       "    width:680px;\n",
       "    margin-left:auto;\n",
       "    margin-right:auto;\n",
       "}\n",
       "\n",
       "/* Formatting for header cells */\n",
       ".text_cell_render h1 {\n",
       "    font-family: 'Merriweather', serif;\n",
       "    font-style:regular;\n",
       "    font-weight: bold;    \n",
       "    font-size: 250%;\n",
       "    line-height: 100%;\n",
       "    color: #004065;\n",
       "    margin-bottom: 1em;\n",
       "    margin-top: 0.5em;\n",
       "    display: block;\n",
       "}\t\n",
       ".text_cell_render h2 {\n",
       "    font-family: 'Merriweather', serif;\n",
       "    font-weight: bold; \n",
       "    font-size: 180%;\n",
       "    line-height: 100%;\n",
       "    color: #0096d6;\n",
       "    margin-bottom: 0.5em;\n",
       "    margin-top: 0.5em;\n",
       "    display: block;\n",
       "}\t\n",
       "\n",
       ".text_cell_render h3 {\n",
       "    font-family: 'Merriweather', serif;\n",
       "\tfont-size: 150%;\n",
       "    margin-top:12px;\n",
       "    margin-bottom: 3px;\n",
       "    font-style: regular;\n",
       "    color: #008367;\n",
       "}\n",
       "\n",
       ".text_cell_render h4 {    /*Use this for captions*/\n",
       "    font-family: 'Merriweather', serif;\n",
       "    font-weight: 300; \n",
       "    font-size: 100%;\n",
       "    line-height: 120%;\n",
       "    text-align: center;\n",
       "    margin-top: 1em;\n",
       "    margin-bottom: 2em;\n",
       "    font-style: regular;\n",
       "}\n",
       "\n",
       ".text_cell_render h5 {  /*Use this for small titles*/\n",
       "    font-family: 'Source Sans Pro', sans-serif;\n",
       "    font-weight: regular;\n",
       "    font-size: 130%;\n",
       "    color: #e31937;\n",
       "    font-style: italic;\n",
       "    margin-bottom: .5em;\n",
       "    margin-top: 1em;\n",
       "    display: block;\n",
       "}\n",
       "\n",
       ".text_cell_render h6 { /*use this for copyright note*/\n",
       "    font-family: 'Source Code Pro', sans-serif;\n",
       "    font-weight: 300;\n",
       "    font-size: 9pt;\n",
       "    line-height: 100%;\n",
       "    color: grey;\n",
       "    margin-bottom: 1px;\n",
       "    margin-top: 1px;\n",
       "}\n",
       "\n",
       "    .CodeMirror{\n",
       "            font-family: \"Source Code Pro\";\n",
       "\t\t\tfont-size: 90%;\n",
       "    }\n",
       "/*    .prompt{\n",
       "        display: None;\n",
       "    }*/\n",
       "\t\n",
       "    \n",
       "    .warning{\n",
       "        color: rgb( 240, 20, 20 )\n",
       "        }  \n",
       "</style>\n",
       "<script>\n",
       "    MathJax.Hub.Config({\n",
       "                        TeX: {\n",
       "                           extensions: [\"AMSmath.js\"], \n",
       "                           equationNumbers: { autoNumber: \"AMS\", useLabelIds: true}\n",
       "                           },\n",
       "                tex2jax: {\n",
       "                    inlineMath: [ ['$','$'], [\"\\\\(\",\"\\\\)\"] ],\n",
       "                    displayMath: [ ['$$','$$'], [\"\\\\[\",\"\\\\]\"] ]\n",
       "                },\n",
       "                displayAlign: 'center', // Change this to 'center' to center equations.\n",
       "                \"HTML-CSS\": {\n",
       "                    styles: {'.MathJax_Display': {\"margin\": 4}}\n",
       "                }\n",
       "        });\n",
       "</script>\n"
      ],
      "text/plain": [
       "<IPython.core.display.HTML object>"
      ]
     },
     "execution_count": 10,
     "metadata": {},
     "output_type": "execute_result"
    }
   ],
   "source": [
    "# Execute this cell to load the notebook's style sheet, then ignore it\n",
    "from IPython.core.display import HTML\n",
    "css_file = '../../../style/custom.css'\n",
    "HTML(open(css_file, \"r\").read())"
   ]
  }
 ],
 "metadata": {
  "kernelspec": {
   "display_name": "Python 3",
   "language": "python",
   "name": "python3"
  },
  "language_info": {
   "codemirror_mode": {
    "name": "ipython",
    "version": 3
   },
   "file_extension": ".py",
   "mimetype": "text/x-python",
   "name": "python",
   "nbconvert_exporter": "python",
   "pygments_lexer": "ipython3",
   "version": "3.5.3"
  }
 },
 "nbformat": 4,
 "nbformat_minor": 2
}
